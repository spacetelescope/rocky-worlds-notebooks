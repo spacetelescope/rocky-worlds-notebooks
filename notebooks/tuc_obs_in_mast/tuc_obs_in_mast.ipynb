{
 "cells": [
  {
   "cell_type": "markdown",
   "id": "e2814dcd-f8d3-42d6-8e00-13566c9822e9",
   "metadata": {},
   "source": [
    "# Find MAST Observations of Targets in Rocky Worlds DDT \"Targets Under Consideration\" List\n",
    "---\n",
    "**Author**: Mees Fix (mfix@stsci.edu) <br>\n",
    "**Latest Update**: 31 March 2025<br>\n",
    "**Data**: None<br>"
   ]
  },
  {
   "cell_type": "markdown",
   "id": "29b675ef-e2f1-4db9-a452-bea136c2fc52",
   "metadata": {},
   "source": [
    "<a id='intro'></a>\n",
    "## Introduction\n",
    "\n",
    "\n",
    "The examples below use the `archive_utils.py` file in the Rocky Worlds DDT Python API to discover observations of targets under consideration that might already exist. In this notebook we will use two targets under consideration: `LTT 1445 A b` and `TRAPPIST-1 g`.\n",
    "\n",
    "* Import Rocky Worlds DDT utility functions\n",
    "* Obtain exoplanet metadata from NASA NexSci Exoplanet Archive (ra, dec, period, planetary ephemeris).\n",
    "* Obtain JWST Observations of the same region (potential transits, phase curves, secondary transits).\n",
    "* Use JWST observation metadata of observation start and end times along with the targets period and planetary ephemeris to see if there are potential exoplanet events.\n",
    "* Build an astropy table and add the orbit, phase and potential exoplanet event around the target"
   ]
  },
  {
   "cell_type": "markdown",
   "id": "c5d372e1-b6b2-4433-8d41-ea67da192032",
   "metadata": {},
   "source": [
    "<a id='top'></a>\n",
    "## Table of Contents\n",
    "* [Imports](#imports)\n",
    "* [Query NexSci Archive (LTT 1445 A b)](#ltt1445ab)\n",
    "    * [Reviewing values returned from our API queries.](#ltt1445ab_values)\n",
    "    * [Query for JWST Observations of Target](#mastquery_ltt1445ab)\n",
    "    * [LTT 1445 A b Secondary Eclipse Results](#ltt1445ab_results)\n",
    "* [Query NexSci Archive (Trappist-1 g)](#trappist1g)\n",
    "    * [Reviewing values returned from our API queries.](#trappist1g_values)\n",
    "    * [Selecting Valid Values for query_mast_jwst_archive](#valid_values)\n",
    "    * [LTT 1445 A b Secondary Eclipse Results](#trappist1g_results)\n",
    "* [All Events for Target Under Consideration](#all_events_for_tuc)"
   ]
  },
  {
   "cell_type": "markdown",
   "id": "cb98248f-dfb1-46c2-8c09-2216bb53bb56",
   "metadata": {},
   "source": [
    "<a id='imports'></a>\n",
    "## Imports"
   ]
  },
  {
   "cell_type": "code",
   "execution_count": null,
   "id": "9e286f72-4367-4bbb-b5d9-7a7364dc6f97",
   "metadata": {},
   "outputs": [],
   "source": [
    "from pathlib import Path\n",
    "from astropy.io import ascii\n",
    "from astropy.table import vstack\n",
    "import numpy as np\n",
    "\n",
    "from rocky_worlds_utils.archive_utils import check_jwst_event_type, query_nexsci_archive, check_jwst_observations"
   ]
  },
  {
   "cell_type": "markdown",
   "id": "4257bf21-9b29-4f48-ac02-1c9ab9826058",
   "metadata": {},
   "source": [
    "<a id='ltt1445ab'></a>\n",
    "## Query NexSci Archive (LTT 1445 A b)"
   ]
  },
  {
   "cell_type": "code",
   "execution_count": null,
   "id": "9c76faf9-ad88-4a32-98ab-d4be94cbf4b1",
   "metadata": {},
   "outputs": [],
   "source": [
    "target_name = \"LTT 1445 A b\""
   ]
  },
  {
   "cell_type": "code",
   "execution_count": null,
   "id": "d5e2a917-1a7a-48f5-801d-355fc3444381",
   "metadata": {},
   "outputs": [],
   "source": [
    "exoplanet_data, preferred_idx = query_nexsci_archive(target_name)\n",
    "exoplanet_data"
   ]
  },
  {
   "cell_type": "markdown",
   "id": "16171d1d-e530-46f4-accb-e903f04284fd",
   "metadata": {},
   "source": [
    "The preferred index variable (`preferred_idx`) is the value of the row from the table where the NexSci table column for `default_flag==1`. This are the preferred values for system, but others are available. "
   ]
  },
  {
   "cell_type": "code",
   "execution_count": null,
   "id": "f85aeaba-e716-48f6-9cc3-00f0bee9c0f7",
   "metadata": {},
   "outputs": [],
   "source": [
    "print(preferred_idx)"
   ]
  },
  {
   "cell_type": "markdown",
   "id": "7461f729-2f25-4ac4-83ff-b8602b1165f0",
   "metadata": {},
   "source": [
    "<a id='ltt1445ab_values'></a>\n",
    "## Reviewing values returned from our API queries.\n",
    "\n",
    "* Here we strip the units (degrees) from ra and dec. This is because the query of the MAST Archive (following cells) only accept python float types. If we pass the units still wrapped in the array (`exoplanet_data[preferred_idx][\"ra\"]`) the query will fail.\n",
    "* For the values of `pl_tranmid` and `pl_orbper`, we keep the units (`d` which is short for `days`)."
   ]
  },
  {
   "cell_type": "code",
   "execution_count": null,
   "id": "d9093b0f-6bee-4120-8bab-762b2909d87f",
   "metadata": {},
   "outputs": [],
   "source": [
    "ra = exoplanet_data[preferred_idx][\"ra\"].value[0]\n",
    "dec = exoplanet_data[preferred_idx][\"dec\"].value[0]\n",
    "T0 = exoplanet_data[preferred_idx][\"pl_tranmid\"][0]\n",
    "P = exoplanet_data[preferred_idx][\"pl_orbper\"][0]\n",
    "print(ra, dec, T0, P)"
   ]
  },
  {
   "cell_type": "markdown",
   "id": "58b91fb9-0b98-494f-9f3b-0e9a67bb8d83",
   "metadata": {},
   "source": [
    "<a id='mastquery_ltt1445ab'></a>\n",
    "## Query for JWST Observations of Target"
   ]
  },
  {
   "cell_type": "code",
   "execution_count": null,
   "id": "aa017a13-d2b4-4e40-a1b9-6f312f1df7e2",
   "metadata": {},
   "outputs": [],
   "source": [
    "jwst_observations = check_jwst_observations(ra, dec)\n",
    "jwst_observations"
   ]
  },
  {
   "cell_type": "markdown",
   "id": "3e5f7cf0-17bb-4f38-9162-92e6634ffa4d",
   "metadata": {},
   "source": [
    "For the host `LTT 1445A` there are many observations, but for the exoplanet (`LTT 1445A b`), are there any events in the time period of the JWST observations listed above? We will use the columns `date_obs` and `duration` coupled with `pl_tranmid` and `pl_orbper` to calculate phase of the exoplanet which we will use to see if there is an event occuring during the time of the JWST observations in this table."
   ]
  },
  {
   "cell_type": "code",
   "execution_count": null,
   "id": "dee03edf-cf74-4d67-82d3-bf0272e986f8",
   "metadata": {},
   "outputs": [],
   "source": [
    "observation_types = check_jwst_event_type(target_name, period=P, planet_ephemeris=T0, jwst_observations=jwst_observations)\n",
    "observation_types"
   ]
  },
  {
   "cell_type": "markdown",
   "id": "3e0d6c3d-527e-4b33-a2a0-d23e2d9e2e3b",
   "metadata": {},
   "source": [
    "Let's add the observation types to our JWST observations Table"
   ]
  },
  {
   "cell_type": "code",
   "execution_count": null,
   "id": "68a86304-2b2d-49d5-9942-f3c5c279a2cb",
   "metadata": {},
   "outputs": [],
   "source": [
    "jwst_observations.add_column(observation_types, name=\"obs_type\")"
   ]
  },
  {
   "cell_type": "markdown",
   "id": "173e0550-9395-4875-a2a6-d26043646d4e",
   "metadata": {},
   "source": [
    "<a id='ltt1445ab_results'></a>\n",
    "## LTT 1445 A b Secondary Eclipse Results"
   ]
  },
  {
   "cell_type": "markdown",
   "id": "61202d5a-5da7-4891-92b0-07d39320b37a",
   "metadata": {},
   "source": [
    "For the Rocky Worlds DDT, we are interest in secondary eclipses, let's see if there is the possiblity for that type of event for our target in the observations returned from our MAST query."
   ]
  },
  {
   "cell_type": "code",
   "execution_count": null,
   "id": "e107893d-34ec-46cc-9770-bcce438f142e",
   "metadata": {},
   "outputs": [],
   "source": [
    "jwst_observations[jwst_observations[\"obs_type\"]==\"SECONDARY ECLIPSE\"]"
   ]
  },
  {
   "cell_type": "markdown",
   "id": "4e8ff857-2795-4e28-94f4-f3652c6a9f2e",
   "metadata": {},
   "source": [
    "<a id='trappist1g'></a>\n",
    "## Query NexSci Archive (TRAPPIST-1 g)"
   ]
  },
  {
   "cell_type": "markdown",
   "id": "94a7f928-aeb8-4b44-ab52-665344cb30f1",
   "metadata": {},
   "source": [
    "Now we are going to look at another Target Under Consideration, `TRAPPIST-1 g`. This target has issues with data in the NexSci Database, the preferred database entry is missing an important piece of data to calculate the phase.\n",
    "\n",
    "**Note:** This notebook was written in January 2025, this issue could disappear if preferred data entry in the NexSci database is changed or if new measurements are made. This example is a work around to obtain the information we are interested in."
   ]
  },
  {
   "cell_type": "code",
   "execution_count": null,
   "id": "25901111-89fc-4410-96a2-7b7b9d2466c3",
   "metadata": {},
   "outputs": [],
   "source": [
    "failed_target_name = \"TRAPPIST-1 g\""
   ]
  },
  {
   "cell_type": "code",
   "execution_count": null,
   "id": "1e7ebe9f-2b0b-4dab-b8dd-9a554970bbe2",
   "metadata": {},
   "outputs": [],
   "source": [
    "failed_exoplanet_data, failed_preferred_idx = query_nexsci_archive(failed_target_name)\n",
    "failed_exoplanet_data"
   ]
  },
  {
   "cell_type": "markdown",
   "id": "be0427cc-9e34-49e0-93fe-1fd15bf8f045",
   "metadata": {},
   "source": [
    "<a id='trappist1g_values'></a>\n",
    "## Reviewing values returned from our API queries.\n",
    "Inspecting the metadata from the preferred row, the planetary ephemeris (`T0` or `pl_tranmid`) is NaN."
   ]
  },
  {
   "cell_type": "code",
   "execution_count": null,
   "id": "7ba75e82-9617-40b3-911a-7886777f3fd9",
   "metadata": {},
   "outputs": [],
   "source": [
    "failed_ra = failed_exoplanet_data[failed_preferred_idx][\"ra\"].value[0]\n",
    "failed_dec = failed_exoplanet_data[failed_preferred_idx][\"dec\"].value[0]\n",
    "failed_T0 = failed_exoplanet_data[failed_preferred_idx][\"pl_tranmid\"][0]\n",
    "failed_P = failed_exoplanet_data[failed_preferred_idx][\"pl_orbper\"][0]\n",
    "print(failed_ra, failed_dec, failed_T0, failed_P)"
   ]
  },
  {
   "cell_type": "markdown",
   "id": "cd342284-321b-47d7-8ae0-35c4bdcef902",
   "metadata": {},
   "source": [
    "<a id='valid_values'></a>\n",
    "## Selecting Valid Values for query_mast_jwst_archive"
   ]
  },
  {
   "cell_type": "markdown",
   "id": "1ec320aa-dd5f-47a4-b609-56d6224f2c35",
   "metadata": {},
   "source": [
    "In this case, we can use the planet ephemeris from Gillon et al 2017."
   ]
  },
  {
   "cell_type": "code",
   "execution_count": null,
   "id": "fc65baa7-fad4-4599-88c4-c6bae3db6e7b",
   "metadata": {},
   "outputs": [],
   "source": [
    "successful_T0 = failed_exoplanet_data[[0]][\"pl_tranmid\"][0]\n",
    "successful_reference = failed_exoplanet_data[[0]][\"pl_refname\"][0]\n",
    "print(successful_T0)\n",
    "print(successful_reference)"
   ]
  },
  {
   "cell_type": "code",
   "execution_count": null,
   "id": "aa5f4e1b-69bb-42cc-b350-6baac3307cb3",
   "metadata": {},
   "outputs": [],
   "source": [
    "trappist1g_jwst_observations = check_jwst_observations(failed_ra, failed_dec)\n",
    "trappist1g_jwst_observations"
   ]
  },
  {
   "cell_type": "code",
   "execution_count": null,
   "id": "afd261c6-8e4a-48a8-a2c9-172a32cf04e7",
   "metadata": {},
   "outputs": [],
   "source": [
    "trappist_1_g_event_types = check_jwst_event_type(failed_target_name, period=failed_P, planet_ephemeris=successful_T0, jwst_observations=trappist1g_jwst_observations)\n",
    "trappist_1_g_event_types"
   ]
  },
  {
   "cell_type": "code",
   "execution_count": null,
   "id": "589fd22b-8256-499d-af67-877b24cc7ab5",
   "metadata": {},
   "outputs": [],
   "source": [
    "trappist1g_jwst_observations.add_column(trappist_1_g_event_types, name=\"obs_type\")"
   ]
  },
  {
   "cell_type": "markdown",
   "id": "eabf98e2-fc18-4929-bb44-1d63e8220172",
   "metadata": {},
   "source": [
    "<a id='trappist1g_results'></a>\n",
    "## Trappist-1 g Secondary Eclipse Results"
   ]
  },
  {
   "cell_type": "code",
   "execution_count": null,
   "id": "9a58afd1-be3a-4b7d-af1e-78a8fe472e25",
   "metadata": {},
   "outputs": [],
   "source": [
    "trappist1g_jwst_observations[trappist1g_jwst_observations[\"obs_type\"]==\"SECONDARY ECLIPSE\"]"
   ]
  },
  {
   "cell_type": "markdown",
   "id": "ec10d791-4656-4ea0-a344-2499911feff2",
   "metadata": {},
   "source": [
    "<a id='all_events_for_tuc'></a>\n",
    "## All Events for all Target Under Consideration"
   ]
  },
  {
   "cell_type": "code",
   "execution_count": null,
   "id": "04bbcdc1-f5f5-4c10-8694-3961d4373d0f",
   "metadata": {},
   "outputs": [],
   "source": [
    "planet_names = [\"TOI-406.01\", \"TOI-198 b\", \"TOI-1452 b\", \"TOI-700 d\", \"LHS 1140 b\", \"TOI-776 b\",\n",
    "                \"TOI-260 b\", \"LP 890-9 c\", \"K2-415 b\", \"TRAPPIST-1 g\", \"TOI-1467 b\",\n",
    "                \"TOI-700 e\", \"TOI-1680 b\", \"TOI-244 b\", \"TOI-237 b\", \"LTT 1445 A b\", \"HD 260655 c\",\n",
    "                \"K2-239 d\", \"TOI-5799 b\", \"TRAPPIST-1 f\", \"K2-129 b\", \"TOI-4559 b\", \"Kepler-445 b\",\n",
    "                \"TOI-5388.01\", \"TOI-2266 b\", \"Gliese 12 b\", \"TOI-1634 b\", \"LHS 1140 c\", \"LP 890-9 b\",\n",
    "                \"GJ 357 b\", \"TOI-1468 b\", \"TRAPPIST-1 h\", \"K2-239 c\", \"TOI-406 b\", \"LHS 1815 b\",\n",
    "                \"K2-239 b\", \"TOI-2096 b\", \"L 98-59 d\", \"TOI-700 b\", \"L 98-59 c\", \"HD 260655 b\",\n",
    "                \"TRAPPIST-1 e\", \"TOI-1693 b\", \"LHS 1478 b\", \"GJ 486 b\", \"TOI-270 b\", \"Kepler-446 b\",\n",
    "                \"LTT 1445 A c\", \"TOI-771 b\", \"TRAPPIST-1 c\", \"LHS 1678 d\", \"GJ 1132 b\", \"GJ 3929 b\",\n",
    "                \"TRAPPIST-1 b\", \"LP 791-18 d\", \"LHS 1678 c\", \"TOI-6086 b\", \"TOI-1450 A b\", \"GJ 3473 b\",\n",
    "                \"LTT 3780 b\", \"TRAPPIST-1 d\", \"LP 791-18 b\", \"TOI-5720 b\", \"LHS 475 b\", \"TOI-1685 b\",\n",
    "                \"GJ 806 b\", \"K2-91 b\", \"Wolf 327 b\", \"TOI-6008 b\", \"LHS 3844 b\", \"TOI-540 b\", \"SPECULOOS-3 b\",\n",
    "                \"L 98-59 b\", \"Kepler-42 b\", \"GJ 1252 b\", \"TOI-4527.01\", \"LHS 1678 b\", \"GJ 238 b\", \"Kepler-42 c\",\n",
    "                \"GJ 367 b\",]"
   ]
  },
  {
   "cell_type": "code",
   "execution_count": null,
   "id": "c73fa424-b581-42d1-b6e1-0bef2c71466a",
   "metadata": {},
   "outputs": [],
   "source": [
    "all_observation_type_tables = []\n",
    "\n",
    "for planet_name in planet_names:\n",
    "    # Get exoplanet data from NexSci\n",
    "    planet_data, _ = query_nexsci_archive(planet_name)\n",
    "    # Get same data, but ensure planet ephemeris and period are NOT value NaN\n",
    "    nan_free_planet_data = planet_data[~np.isnan(planet_data[\"pl_tranmid\"]) & ~np.isnan(planet_data[\"pl_orbper\"])]\n",
    "\n",
    "    if len(nan_free_planet_data) == 0:\n",
    "        print(f\"No complete datasets for {planet_name}\")\n",
    "        continue\n",
    "\n",
    "    # Check to see if preferred index is still in this updated table\n",
    "    preferred_index = np.where(nan_free_planet_data[\"default_flag\"]==1)[0]\n",
    "    if preferred_index.size > 0:\n",
    "        T0 = nan_free_planet_data[preferred_index][\"pl_tranmid\"][0]\n",
    "        P = nan_free_planet_data[preferred_index][\"pl_orbper\"][0]\n",
    "        ra = nan_free_planet_data[preferred_index][\"ra\"].value[0]\n",
    "        dec = nan_free_planet_data[preferred_index][\"dec\"].value[0]\n",
    "    else:\n",
    "        # Just use first entry with complete data\n",
    "        T0 = nan_free_planet_data[0][\"pl_tranmid\"]\n",
    "        P = nan_free_planet_data[0][\"pl_orbper\"]\n",
    "        ra = nan_free_planet_data[0][\"ra\"].value\n",
    "        dec = nan_free_planet_data[0][\"dec\"].value\n",
    "\n",
    "    jwst_observations = check_jwst_observations(ra, dec)\n",
    "    if len(jwst_observations) == 0:\n",
    "        print(f\"No JWST observations for {planet_name}\")\n",
    "        continue\n",
    "    else:\n",
    "        print(f\"Found {len(jwst_observations)} potential {planet_name} observations\")\n",
    "\n",
    "    observation_type_table = check_jwst_event_type(planet_name, period=P, planet_ephemeris=T0, jwst_observations=jwst_observations)\n",
    "    jwst_observations.add_column(observation_type_table, name=\"obs_type\")\n",
    "    jwst_observations.add_column([planet_name] * len(observation_type_table), name=\"planet_name\")\n",
    "    all_observation_type_tables.append(jwst_observations)\n",
    "\n",
    "combine_all_observation_tables = vstack(all_observation_type_tables)"
   ]
  },
  {
   "cell_type": "code",
   "execution_count": null,
   "id": "37bdfa96-369b-4c40-9077-18a9c59fbb6d",
   "metadata": {},
   "outputs": [],
   "source": [
    "combine_all_observation_tables"
   ]
  },
  {
   "cell_type": "code",
   "execution_count": null,
   "id": "429ff68b-0fc7-4069-a258-7ccde9f036e1",
   "metadata": {},
   "outputs": [],
   "source": [
    "secondary_eclipses = np.where((combine_all_observation_tables[\"obs_type\"] == \"SECONDARY ECLIPSE\")\n",
    "                             & (combine_all_observation_tables[\"access\"] == \"PUBLIC\"))\n",
    "all_public_secondary_eclipses = combine_all_observation_tables[secondary_eclipses][\"planet_name\", \"ArchiveFileID\", \"instrume\", \"exp_type\", \"opticalElements\", \"date_obs\", \"program\", \"access\"]"
   ]
  },
  {
   "cell_type": "code",
   "execution_count": null,
   "id": "74ba177a-c762-4509-b07d-74235c47a5bc",
   "metadata": {},
   "outputs": [],
   "source": [
    "all_public_secondary_eclipses"
   ]
  },
  {
   "cell_type": "code",
   "execution_count": null,
   "id": "9b9ea392-df9c-4bcc-90d3-f44ca87fa4aa",
   "metadata": {},
   "outputs": [],
   "source": [
    "ascii.write(all_public_secondary_eclipses, 'all_public_secondary_eclipses.dat', overwrite=True)  "
   ]
  }
 ],
 "metadata": {
  "kernelspec": {
   "display_name": "rocky-worlds-3.11",
   "language": "python",
   "name": "rocky-worlds-3.11"
  },
  "language_info": {
   "codemirror_mode": {
    "name": "ipython",
    "version": 3
   },
   "file_extension": ".py",
   "mimetype": "text/x-python",
   "name": "python",
   "nbconvert_exporter": "python",
   "pygments_lexer": "ipython3",
   "version": "3.11.11"
  }
 },
 "nbformat": 4,
 "nbformat_minor": 5
}
